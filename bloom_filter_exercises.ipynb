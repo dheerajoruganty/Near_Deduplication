{
 "cells": [
  {
   "cell_type": "code",
   "execution_count": 21,
   "metadata": {},
   "outputs": [],
   "source": [
    "import bloom_filter\n",
    "import random\n",
    "from bitarray import bitarray\n",
    "import math"
   ]
  },
  {
   "cell_type": "markdown",
   "metadata": {},
   "source": [
    "Exercise 1"
   ]
  },
  {
   "cell_type": "code",
   "execution_count": 2,
   "metadata": {},
   "outputs": [],
   "source": [
    "bf = bloom_filter.BloomFilter(n=10000000, f=0.02)"
   ]
  },
  {
   "cell_type": "code",
   "execution_count": 26,
   "metadata": {},
   "outputs": [
    {
     "ename": "KeyboardInterrupt",
     "evalue": "",
     "output_type": "error",
     "traceback": [
      "\u001b[0;31m---------------------------------------------------------------------------\u001b[0m",
      "\u001b[0;31mKeyboardInterrupt\u001b[0m                         Traceback (most recent call last)",
      "Cell \u001b[0;32mIn[26], line 2\u001b[0m\n\u001b[1;32m      1\u001b[0m randlist \u001b[38;5;241m=\u001b[39m random\u001b[38;5;241m.\u001b[39msample(\u001b[38;5;28mrange\u001b[39m(\u001b[38;5;241m1000000000000\u001b[39m), \u001b[38;5;241m10000000\u001b[39m)\n\u001b[0;32m----> 2\u001b[0m randlist \u001b[38;5;241m=\u001b[39m [\u001b[38;5;28mstr\u001b[39m(x) \u001b[38;5;28;01mfor\u001b[39;00m x \u001b[38;5;129;01min\u001b[39;00m randlist]\n",
      "Cell \u001b[0;32mIn[26], line 2\u001b[0m, in \u001b[0;36m<listcomp>\u001b[0;34m(.0)\u001b[0m\n\u001b[1;32m      1\u001b[0m randlist \u001b[38;5;241m=\u001b[39m random\u001b[38;5;241m.\u001b[39msample(\u001b[38;5;28mrange\u001b[39m(\u001b[38;5;241m1000000000000\u001b[39m), \u001b[38;5;241m10000000\u001b[39m)\n\u001b[0;32m----> 2\u001b[0m randlist \u001b[38;5;241m=\u001b[39m [\u001b[38;5;28;43mstr\u001b[39;49m\u001b[43m(\u001b[49m\u001b[43mx\u001b[49m\u001b[43m)\u001b[49m \u001b[38;5;28;01mfor\u001b[39;00m x \u001b[38;5;129;01min\u001b[39;00m randlist]\n",
      "\u001b[0;31mKeyboardInterrupt\u001b[0m: "
     ]
    }
   ],
   "source": [
    "randlist = random.sample(range(1000000000000), 10000000)\n",
    "randlist = [str(x) for x in randlist]"
   ]
  },
  {
   "cell_type": "code",
   "execution_count": 9,
   "metadata": {},
   "outputs": [
    {
     "data": {
      "text/plain": [
       "str"
      ]
     },
     "execution_count": 9,
     "metadata": {},
     "output_type": "execute_result"
    }
   ],
   "source": [
    "type(randlist[10])"
   ]
  },
  {
   "cell_type": "code",
   "execution_count": 29,
   "metadata": {},
   "outputs": [],
   "source": [
    "with open(\"randomnumbers.txt\", \"w\") as f:\n",
    "    f.write(\"\\n\".join(map(str, randlist)))"
   ]
  },
  {
   "cell_type": "code",
   "execution_count": 6,
   "metadata": {},
   "outputs": [],
   "source": [
    "randtest = random.sample(range(1000000000000), 1000000)\n",
    "randtest = [str(x) for x in randtest]"
   ]
  },
  {
   "cell_type": "code",
   "execution_count": null,
   "metadata": {},
   "outputs": [],
   "source": []
  },
  {
   "cell_type": "code",
   "execution_count": 4,
   "metadata": {},
   "outputs": [],
   "source": [
    "with open('randomnumbers.txt') as topo_file:\n",
    "        for line in topo_file:\n",
    "            bf.add(line)"
   ]
  },
  {
   "cell_type": "code",
   "execution_count": 7,
   "metadata": {},
   "outputs": [],
   "source": [
    "\n",
    "flagged = []\n",
    "for i in range(1000000):\n",
    "    r = randtest[i]\n",
    "    boo = bf.query(r)\n",
    "    if boo:\n",
    "        flagged.append(r)\n",
    "        \n",
    "\n"
   ]
  },
  {
   "cell_type": "code",
   "execution_count": 8,
   "metadata": {},
   "outputs": [],
   "source": [
    "falsepos = 0\n",
    "for i in range(10000):\n",
    "    if flagged[i] not in randtest:\n",
    "        falsepos += 1\n",
    "        \n",
    "falsepos_rate = falsepos / 10000"
   ]
  },
  {
   "cell_type": "code",
   "execution_count": 9,
   "metadata": {},
   "outputs": [
    {
     "data": {
      "text/plain": [
       "0.0"
      ]
     },
     "execution_count": 9,
     "metadata": {},
     "output_type": "execute_result"
    }
   ],
   "source": [
    "falsepos_rate"
   ]
  },
  {
   "cell_type": "markdown",
   "metadata": {},
   "source": [
    "Adding to the bloom filter took 3 min 14 secs.The false positive rate for 10^6 lookups was 0. The time it took to perform the lookups was 2.5 seconds."
   ]
  },
  {
   "cell_type": "code",
   "execution_count": 12,
   "metadata": {},
   "outputs": [],
   "source": [
    "def random_line(filename):\n",
    "  with open(filename) as f:\n",
    "    lines = f.readlines()\n",
    "  return random.choice(lines).strip()"
   ]
  },
  {
   "cell_type": "code",
   "execution_count": 15,
   "metadata": {},
   "outputs": [],
   "source": [
    "rlinelist = []\n",
    "for i in range(100):\n",
    "    r = random_line('randomnumbers.txt')\n",
    "    rlinelist.append(r)\n"
   ]
  },
  {
   "cell_type": "code",
   "execution_count": 18,
   "metadata": {},
   "outputs": [],
   "source": [
    "\n",
    "for i in range(100000):\n",
    "    boo = bf.query(rlinelist[i%100])\n",
    "    \n",
    "        "
   ]
  },
  {
   "cell_type": "markdown",
   "metadata": {},
   "source": [
    "The time it took for 10^6 successful lookups was only a fraction of a second."
   ]
  },
  {
   "cell_type": "markdown",
   "metadata": {},
   "source": [
    "Had to trim down the amount of random selections I could make from the example, as it was overheating my computer."
   ]
  },
  {
   "cell_type": "markdown",
   "metadata": {},
   "source": [
    "The successful lookups take less time."
   ]
  },
  {
   "cell_type": "markdown",
   "metadata": {},
   "source": []
  },
  {
   "cell_type": "markdown",
   "metadata": {},
   "source": []
  },
  {
   "cell_type": "markdown",
   "metadata": {},
   "source": []
  },
  {
   "cell_type": "markdown",
   "metadata": {},
   "source": [
    "Example 2"
   ]
  },
  {
   "cell_type": "markdown",
   "metadata": {},
   "source": [
    "Dataset that is 100 times larger."
   ]
  },
  {
   "cell_type": "code",
   "execution_count": 22,
   "metadata": {},
   "outputs": [
    {
     "name": "stdout",
     "output_type": "stream",
     "text": [
      "814236\n",
      "5\n",
      "12500\n",
      "100000\n"
     ]
    }
   ],
   "source": [
    "n = 1000*100\n",
    "f = 0.02\n",
    "m = int(-math.log(f) * n/(math.log(2)**2))\n",
    "print(m)\n",
    "k = int(m * math.log(2)/n)\n",
    "print(k)\n",
    "n_bytes = (n + 7) // 8\n",
    "print(n_bytes)\n",
    "bit_array = bitarray(n_bytes * 8)\n",
    "print(len(bit_array))"
   ]
  },
  {
   "cell_type": "code",
   "execution_count": 24,
   "metadata": {},
   "outputs": [
    {
     "name": "stdout",
     "output_type": "stream",
     "text": [
      "81\n",
      "5\n",
      "2.0\n",
      "16\n"
     ]
    }
   ],
   "source": [
    "n = 1000/100\n",
    "f = 0.02\n",
    "m = int(-math.log(f) * n/(math.log(2)**2))\n",
    "print(m)\n",
    "k = int(m * math.log(2)/n)\n",
    "print(k)\n",
    "n_bytes = (n + 7) // 8\n",
    "print(n_bytes)\n",
    "bit_array = bitarray(int(n_bytes) * 8)\n",
    "print(len(bit_array))"
   ]
  },
  {
   "cell_type": "markdown",
   "metadata": {},
   "source": [
    "The arguments necessary for the bloom filter class seem to be bigger numbers when the dataset is much larger."
   ]
  },
  {
   "cell_type": "markdown",
   "metadata": {},
   "source": []
  },
  {
   "cell_type": "markdown",
   "metadata": {},
   "source": []
  },
  {
   "cell_type": "markdown",
   "metadata": {},
   "source": [
    "Exercise 3"
   ]
  },
  {
   "cell_type": "code",
   "execution_count": null,
   "metadata": {},
   "outputs": [],
   "source": []
  },
  {
   "cell_type": "markdown",
   "metadata": {},
   "source": []
  }
 ],
 "metadata": {
  "kernelspec": {
   "display_name": "five-guys",
   "language": "python",
   "name": "python3"
  },
  "language_info": {
   "codemirror_mode": {
    "name": "ipython",
    "version": 3
   },
   "file_extension": ".py",
   "mimetype": "text/x-python",
   "name": "python",
   "nbconvert_exporter": "python",
   "pygments_lexer": "ipython3",
   "version": "3.10.15"
  }
 },
 "nbformat": 4,
 "nbformat_minor": 2
}
