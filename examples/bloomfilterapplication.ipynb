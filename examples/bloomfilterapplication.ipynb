{
 "cells": [
  {
   "cell_type": "markdown",
   "metadata": {},
   "source": [
    "This notebook is used for checking on the improvements I make to the bloom filter application."
   ]
  },
  {
   "cell_type": "code",
   "execution_count": 3,
   "metadata": {},
   "outputs": [],
   "source": [
    "import math\n",
    "import mmh3\n",
    "import ngram\n",
    "from nltk import ngrams\n",
    "from bitarray import bitarray\n",
    "from near_dedup.bloom_filter.bloom_filter import CountingBloomFilter\n"
   ]
  },
  {
   "cell_type": "code",
   "execution_count": 5,
   "metadata": {},
   "outputs": [],
   "source": [
    "bf = CountingBloomFilter(num_elements=3653, false_positive_rate=0.01)\n"
   ]
  },
  {
   "cell_type": "code",
   "execution_count": 6,
   "metadata": {},
   "outputs": [],
   "source": [
    "def unique_file(input_filename):\n",
    "    input_file = open(input_filename, 'r')\n",
    "    file_contents = input_file.read()\n",
    "    input_file.close()\n",
    "    word_list = file_contents.split()\n",
    "\n",
    "    output_list = []\n",
    "    \n",
    "    unique_words = set(word_list)\n",
    "    for word in unique_words:   \n",
    "        output_list.append(word)\n",
    "\n",
    "    return output_list\n"
   ]
  },
  {
   "cell_type": "code",
   "execution_count": 8,
   "metadata": {},
   "outputs": [],
   "source": [
    "ex_list = unique_file('../data/example_text.txt')\n"
   ]
  },
  {
   "cell_type": "code",
   "execution_count": 9,
   "metadata": {},
   "outputs": [
    {
     "data": {
      "text/plain": [
       "7307"
      ]
     },
     "execution_count": 9,
     "metadata": {},
     "output_type": "execute_result"
    }
   ],
   "source": [
    "len(ex_list)\n"
   ]
  },
  {
   "cell_type": "code",
   "execution_count": 10,
   "metadata": {},
   "outputs": [],
   "source": [
    "train = ex_list[:len(ex_list)//2]\n",
    "test = ex_list[len(ex_list)//2:]\n"
   ]
  },
  {
   "cell_type": "code",
   "execution_count": 11,
   "metadata": {},
   "outputs": [],
   "source": [
    "for i in range(len(train)):\n",
    "    bf.add(train[i])\n"
   ]
  },
  {
   "cell_type": "code",
   "execution_count": 13,
   "metadata": {},
   "outputs": [],
   "source": [
    "false_pos_counter = 0\n",
    "for i in range(len(test)):\n",
    "    boo = bf.contains(test[i])\n",
    "    if boo:\n",
    "        false_pos_counter += 1\n",
    "    \n",
    "false_pos_rate = false_pos_counter / len(test)    \n",
    "        "
   ]
  },
  {
   "cell_type": "code",
   "execution_count": 14,
   "metadata": {},
   "outputs": [
    {
     "data": {
      "text/plain": [
       "0.007662835249042145"
      ]
     },
     "execution_count": 14,
     "metadata": {},
     "output_type": "execute_result"
    }
   ],
   "source": [
    "false_pos_rate\n"
   ]
  },
  {
   "cell_type": "markdown",
   "metadata": {},
   "source": [
    "I created a list of unique words (length of 3653)to add into the bloom filter. After doing so, I took another list of unique words (length of 3653) to query in the bloom filter. This should mean that there are no false positives because they are all unique, yet the bloom filter will identify some as positive. I want to examine the false positive rate."
   ]
  },
  {
   "cell_type": "markdown",
   "metadata": {},
   "source": [
    "For the initial implementation of the bloom filter, before trying improvements, we had a very high false positive rate (0.45)."
   ]
  },
  {
   "cell_type": "markdown",
   "metadata": {},
   "source": [
    "The first improvement I made was changing the number k of hash functions and just keeping a singular mmh3 hash function. The following graph shows how the less hash functions there were, the better the false positive rate."
   ]
  },
  {
   "cell_type": "code",
   "execution_count": 15,
   "metadata": {},
   "outputs": [],
   "source": [
    "false_poses = [0.09, 0.18, 0.34, 0.56]\n",
    "k = [1, 2, 4, 8]\n"
   ]
  },
  {
   "cell_type": "code",
   "execution_count": 16,
   "metadata": {},
   "outputs": [
    {
     "data": {
      "image/png": "[encoded data removed]",
      "text/plain": [
       "<Figure size 640x480 with 1 Axes>"
      ]
     },
     "metadata": {},
     "output_type": "display_data"
    }
   ],
   "source": [
    "import matplotlib.pyplot as plt\n",
    "import numpy as np\n",
    "\n",
    "x = k\n",
    "y = false_poses\n",
    "\n",
    "plt.scatter(x, y)\n",
    "plt.xlabel(\"Number of Hash Functions\")\n",
    "plt.ylabel(\"False Positive Rate\")\n",
    "plt.show()\n"
   ]
  },
  {
   "cell_type": "markdown",
   "metadata": {},
   "source": [
    "I experimented with counting bloom filter. This ended up bringing the false positive rate down to 0.007"
   ]
  }
 ],
 "metadata": {
  "kernelspec": {
   "display_name": "five-guys",
   "language": "python",
   "name": "python3"
  },
  "language_info": {
   "codemirror_mode": {
    "name": "ipython",
    "version": 3
   },
   "file_extension": ".py",
   "mimetype": "text/x-python",
   "name": "python",
   "nbconvert_exporter": "python",
   "pygments_lexer": "ipython3",
   "version": "3.10.15"
  }
 },
 "nbformat": 4,
 "nbformat_minor": 2
}
