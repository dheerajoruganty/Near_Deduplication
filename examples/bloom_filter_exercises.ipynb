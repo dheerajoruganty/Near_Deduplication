{
 "cells": [
  {
   "cell_type": "code",
   "execution_count": 3,
   "metadata": {},
   "outputs": [],
   "source": [
    "import near_dedup.bloom_filter.bloom_filter as bloom_filter\n",
    "import random\n",
    "from bitarray import bitarray\n",
    "import math\n"
   ]
  },
  {
   "cell_type": "markdown",
   "metadata": {},
   "source": [
    "## Exercise 1"
   ]
  },
  {
   "cell_type": "code",
   "execution_count": 4,
   "metadata": {},
   "outputs": [],
   "source": [
    "bf = bloom_filter.BloomFilter(num_elements=10000000, false_positive_rate=0.02)\n"
   ]
  },
  {
   "cell_type": "code",
   "execution_count": 5,
   "metadata": {},
   "outputs": [],
   "source": [
    "randlist = random.sample(range(1000000000000), 10000000)\n",
    "randlist = [str(x) for x in randlist]\n"
   ]
  },
  {
   "cell_type": "code",
   "execution_count": 6,
   "metadata": {},
   "outputs": [
    {
     "data": {
      "text/plain": [
       "str"
      ]
     },
     "execution_count": 6,
     "metadata": {},
     "output_type": "execute_result"
    }
   ],
   "source": [
    "type(randlist[10])\n"
   ]
  },
  {
   "cell_type": "code",
   "execution_count": 7,
   "metadata": {},
   "outputs": [],
   "source": [
    "with open(\"randomnumbers.txt\", \"w\") as f:\n",
    "    f.write(\"\\n\".join(map(str, randlist)))\n"
   ]
  },
  {
   "cell_type": "code",
   "execution_count": 8,
   "metadata": {},
   "outputs": [],
   "source": [
    "randtest = random.sample(range(1000000000000), 1000000)\n",
    "randtest = [str(x) for x in randtest]\n"
   ]
  },
  {
   "cell_type": "code",
<<<<<<< HEAD
   "execution_count": null,
=======
   "execution_count": 9,
>>>>>>> f77d08d (Fix bloom filter implementation)
   "metadata": {},
   "outputs": [],
   "source": [
    "with open('../data/randomnumbers.txt') as topo_file:\n",
    "        for line in topo_file:\n",
    "            bf.add(line)\n"
   ]
  },
  {
   "cell_type": "code",
   "execution_count": 10,
   "metadata": {},
   "outputs": [],
   "source": [
    "\n",
    "flagged = []\n",
    "for i in range(1000000):\n",
    "    r = randtest[i]\n",
    "    boo = bf.contains(r)\n",
    "    if boo:\n",
    "        flagged.append(r)\n",
    "        \n",
    "\n"
   ]
  },
  {
   "cell_type": "code",
   "execution_count": 11,
   "metadata": {},
   "outputs": [],
   "source": [
    "falsepos = 0\n",
    "for i in range(10000):\n",
    "    if flagged[i] not in randtest:\n",
    "        falsepos += 1\n",
    "        \n",
    "falsepos_rate = falsepos / 10000\n"
   ]
  },
  {
   "cell_type": "code",
   "execution_count": 12,
   "metadata": {},
   "outputs": [
    {
     "data": {
      "text/plain": [
       "0.0"
      ]
     },
     "execution_count": 12,
     "metadata": {},
     "output_type": "execute_result"
    }
   ],
   "source": [
    "falsepos_rate\n"
   ]
  },
  {
   "cell_type": "markdown",
   "metadata": {},
   "source": [
    "Adding to the bloom filter took 3 min 14 secs.The false positive rate for 10^6 lookups was 0. The time it took to perform the lookups was 2.5 seconds."
   ]
  },
  {
   "cell_type": "code",
   "execution_count": 13,
   "metadata": {},
   "outputs": [],
   "source": [
    "def random_line(filename):\n",
    "  with open(filename) as f:\n",
    "    lines = f.readlines()\n",
    "  return random.choice(lines).strip()\n"
   ]
  },
  {
   "cell_type": "code",
<<<<<<< HEAD
   "execution_count": null,
=======
   "execution_count": 14,
>>>>>>> f77d08d (Fix bloom filter implementation)
   "metadata": {},
   "outputs": [],
   "source": [
    "rlinelist = []\n",
    "for i in range(100):\n",
    "    r = random_line('../data/randomnumbers.txt')\n",
    "    rlinelist.append(r)\n"
   ]
  },
  {
   "cell_type": "code",
   "execution_count": 15,
   "metadata": {},
   "outputs": [],
   "source": [
    "\n",
    "for i in range(100000):\n",
    "    boo = bf.contains(rlinelist[i%100])\n",
    "    \n",
    "        "
   ]
  },
  {
   "cell_type": "markdown",
   "metadata": {},
   "source": [
    "The time it took for 10^6 successful lookups was only a fraction of a second."
   ]
  },
  {
   "cell_type": "markdown",
   "metadata": {},
   "source": [
    "Had to trim down the amount of random selections I could make from the example, as it was overheating my computer."
   ]
  },
  {
   "cell_type": "markdown",
   "metadata": {},
   "source": [
    "The successful lookups take less time."
   ]
  },
  {
   "cell_type": "markdown",
   "metadata": {},
   "source": [
    "## Example 2"
   ]
  },
  {
   "cell_type": "markdown",
   "metadata": {},
   "source": [
    "Dataset that is 100 times larger."
   ]
  },
  {
   "cell_type": "code",
   "execution_count": 16,
   "metadata": {},
   "outputs": [
    {
     "name": "stdout",
     "output_type": "stream",
     "text": [
      "814236\n",
      "5\n",
      "12500\n",
      "100000\n"
     ]
    }
   ],
   "source": [
    "n = 1000*100\n",
    "f = 0.02\n",
    "m = int(-math.log(f) * n/(math.log(2)**2))\n",
    "print(m)\n",
    "k = int(m * math.log(2)/n)\n",
    "print(k)\n",
    "n_bytes = (n + 7) // 8\n",
    "print(n_bytes)\n",
    "bit_array = bitarray(n_bytes * 8)\n",
    "print(len(bit_array))\n"
   ]
  },
  {
   "cell_type": "code",
   "execution_count": 17,
   "metadata": {},
   "outputs": [
    {
     "name": "stdout",
     "output_type": "stream",
     "text": [
      "81\n",
      "5\n",
      "2.0\n",
      "16\n"
     ]
    }
   ],
   "source": [
    "n = 1000/100\n",
    "f = 0.02\n",
    "m = int(-math.log(f) * n/(math.log(2)**2))\n",
    "print(m)\n",
    "k = int(m * math.log(2)/n)\n",
    "print(k)\n",
    "n_bytes = (n + 7) // 8\n",
    "print(n_bytes)\n",
    "bit_array = bitarray(int(n_bytes) * 8)\n",
    "print(len(bit_array))\n"
   ]
  },
  {
   "cell_type": "markdown",
   "metadata": {},
   "source": [
    "The arguments necessary for the bloom filter class seem to be bigger numbers when the dataset is much larger."
   ]
  },
  {
   "cell_type": "markdown",
   "metadata": {},
   "source": [
    "Exercise 3"
   ]
  },
  {
   "cell_type": "code",
   "execution_count": 19,
   "metadata": {},
   "outputs": [],
   "source": [
    "import math\n",
    "import mmh3\n",
    "from bitarray import bitarray\n",
    " \n",
    "class BloomFilter3:\n",
    "    def __init__(self, n, f):    \n",
    "        self.n = n\n",
    "        self.f = f\n",
    "        self.m = self.calculateM()\n",
    "        self.k = self.calculateK()\n",
    " \n",
    "        self.bit_array = bitarray(self.m)\n",
    "        self.bit_array.setall(0)\n",
    "        self.printParameters()\n",
    " \n",
    "    def calculateM(self):\n",
    "        return int(-math.log(self.f)*self.n/(math.log(2)**2))\n",
    "    \n",
    " \n",
    "    def calculateK(self):\n",
    "        return int(self.m*math.log(2)/self.n)\n",
    "    \n",
    "    def printParameters(self):\n",
    "        print(\"Init parameters:\")\n",
    "        print(f\"n = {self.n}, f = {self.f}, m = {self.m}, k = {self.k}\")\n",
    " \n",
    "    def insert(self, item):\n",
    "        for i in range(self.k):\n",
    "            index = mmh3.hash(item, i) % self.m\n",
    "            self.bit_array[index] = 1\n",
    " \n",
    "    def lookup(self, item):\n",
    "        for i in range(self.k):\n",
    "            index = mmh3.hash(item, i) % self.m\n",
    "            if self.bit_array[index] == 0:\n",
    "                return False\n",
    " \n",
    "        return True\n",
    "            \n",
    "            \n"
   ]
  },
  {
   "cell_type": "code",
   "execution_count": 20,
   "metadata": {},
   "outputs": [
    {
     "name": "stdout",
     "output_type": "stream",
     "text": [
      "Init parameters:\n",
      "n = 10, f = 0.01, m = 95, k = 6\n",
      "1 True\n",
      "2 True\n",
      "3 False\n",
      "42 True\n",
      "43 False\n"
     ]
    }
   ],
   "source": [
    "bf = BloomFilter3(10, 0.01)\n",
    "bf.insert(\"1\")\n",
    "bf.insert(\"2\")\n",
    "bf.insert(\"42\")\n",
    "print(\"1 {}\".format(bf.lookup(\"1\")))\n",
    "print(\"2 {}\".format(bf.lookup(\"2\")))\n",
    "print(\"3 {}\".format(bf.lookup(\"3\")))\n",
    "print(\"42 {}\".format(bf.lookup(\"42\")))\n",
    "print(\"43 {}\".format(bf.lookup(\"43\")))\n"
   ]
  },
  {
   "cell_type": "code",
   "execution_count": 22,
   "metadata": {},
   "outputs": [],
   "source": [
    "import math\n",
    "import mmh3\n",
    "from bitarray import bitarray\n",
    "import numpy as np\n",
    " \n",
    "class BloomFilterChange3:\n",
    "    def __init__(self, n, f):    \n",
    "        self.n = n\n",
    "        self.f = f\n",
    "        self.m = self.calculateM()\n",
    "        self.k = self.calculateK()\n",
    " \n",
    "        self.bit_array = bitarray(self.m)\n",
    "        self.bit_array.setall(0)\n",
    "        self.printParameters()\n",
    "        \n",
    "        \n",
    " \n",
    "    def calculateM(self):\n",
    "        return int(-math.log(self.f)*self.n/(math.log(2)**2))\n",
    "    \n",
    " \n",
    "    def calculateK(self):\n",
    "        return int(self.m*math.log(2)/self.n)\n",
    "    \n",
    "    def printParameters(self):\n",
    "        print(\"Init parameters:\")\n",
    "        print(f\"n = {self.n}, f = {self.f}, m = {self.m}, k = {self.k}\")\n",
    " \n",
    "    def insert(self, item):\n",
    "        chunk_size = self.m/self.k\n",
    "        \n",
    "        \n",
    "        for i in range(self.k):\n",
    "            index = int((mmh3.hash(item, i) % chunk_size) + (i*self.k))\n",
    "            self.bit_array[index] = 1\n",
    " \n",
    "    def lookup(self, item):\n",
    "        chunk_size = self.m/self.k\n",
    "        for i in range(self.k):\n",
    "            index = int((mmh3.hash(item, i) % chunk_size) + (i*self.k))\n",
    "            if self.bit_array[index] == 0:\n",
    "                return False\n",
    " \n",
    "        return True\n",
    "            "
   ]
  },
  {
   "cell_type": "code",
   "execution_count": 23,
   "metadata": {},
   "outputs": [
    {
     "name": "stdout",
     "output_type": "stream",
     "text": [
      "Init parameters:\n",
      "n = 10, f = 0.01, m = 95, k = 6\n",
      "1 True\n",
      "2 True\n",
      "3 False\n",
      "42 True\n",
      "43 False\n"
     ]
    }
   ],
   "source": [
    "bf = BloomFilterChange3(10, 0.01)\n",
    "bf.insert(\"1\")\n",
    "bf.insert(\"2\")\n",
    "bf.insert(\"42\")\n",
    "print(\"1 {}\".format(bf.lookup(\"1\")))\n",
    "print(\"2 {}\".format(bf.lookup(\"2\")))\n",
    "print(\"3 {}\".format(bf.lookup(\"3\")))\n",
    "print(\"42 {}\".format(bf.lookup(\"42\")))\n",
    "print(\"43 {}\".format(bf.lookup(\"43\")))\n"
   ]
  }
 ],
 "metadata": {
  "kernelspec": {
   "display_name": "five-guys",
   "language": "python",
   "name": "python3"
  },
  "language_info": {
   "codemirror_mode": {
    "name": "ipython",
    "version": 3
   },
   "file_extension": ".py",
   "mimetype": "text/x-python",
   "name": "python",
   "nbconvert_exporter": "python",
   "pygments_lexer": "ipython3",
   "version": "3.10.15"
  }
 },
 "nbformat": 4,
 "nbformat_minor": 2
}
